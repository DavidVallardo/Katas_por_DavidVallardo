{
 "cells": [
  {
   "cell_type": "markdown",
   "metadata": {},
   "source": [
    "## Ejercicio1- Utilizar operadores aritméticos"
   ]
  },
  {
   "cell_type": "code",
   "execution_count": null,
   "metadata": {},
   "outputs": [],
   "source": [
    "Tierra=149597870\n",
    "Júpiter=778547200\n",
    "Diferencia= Júpiter-Tierra\n",
    "print(\"Distancia entre la Tierra y Júpiter\")\n",
    "print(Diferencia, \"-Distancia en Km\")\n",
    "Millas=Diferencia*0.621\n",
    "print(Millas, \"-Distancia en Millas\")"
   ]
  },
  {
   "cell_type": "markdown",
   "metadata": {},
   "source": [
    "## Ejercicio 2: convierte cadenas en números y usa valores absolutos"
   ]
  },
  {
   "cell_type": "code",
   "execution_count": 1,
   "metadata": {},
   "outputs": [
    {
     "name": "stdout",
     "output_type": "stream",
     "text": [
      "91700000\n",
      "91700000\n"
     ]
    }
   ],
   "source": [
    "planeta1= input(\"¿Cuál es la distancia del primer planeta\")\n",
    "planeta2= input(\"¿Cuál es la distancia del segundo planeta\")\n",
    "planeta1= int(planeta1)\n",
    "planeta2= int(planeta2)\n",
    "distancia_km= planeta2 - planeta1\n",
    "print(distancia_km)\n",
    "\n",
    "Millas= distancia_km*0.621\n",
    "print(abs(distancia_km))"
   ]
  }
 ],
 "metadata": {
  "interpreter": {
   "hash": "1096d96948c228fd0d200fe0224c5b4749dc8f9f8502a0a25bea65f39e17c54a"
  },
  "kernelspec": {
   "display_name": "Python 3.10.2 64-bit",
   "language": "python",
   "name": "python3"
  },
  "language_info": {
   "codemirror_mode": {
    "name": "ipython",
    "version": 3
   },
   "file_extension": ".py",
   "mimetype": "text/x-python",
   "name": "python",
   "nbconvert_exporter": "python",
   "pygments_lexer": "ipython3",
   "version": "3.10.2"
  },
  "orig_nbformat": 4
 },
 "nbformat": 4,
 "nbformat_minor": 2
}
