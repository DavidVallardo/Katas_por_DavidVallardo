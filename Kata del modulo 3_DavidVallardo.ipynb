{
 "cells": [
  {
   "cell_type": "markdown",
   "metadata": {},
   "source": [
    "## Escribir declaraciones if, else y elif"
   ]
  },
  {
   "cell_type": "code",
   "execution_count": null,
   "metadata": {},
   "outputs": [],
   "source": [
    "asteroide=10\n",
    "print(\"Velocidad del asteroide detectada\")\n",
    "print(asteroide)\n",
    "if asteroide >= 25: #Si la expresión de prueba es True, dará el la advertencia\n",
    "        print(\"Advertencia, asteroide cerca de la tierra\")\n",
    "elif asteroide < 25: #Sí la expresión de prueba es False, dará el mensaje.\n",
    "        print(\"todo tranquilo\")\n"
   ]
  },
  {
   "cell_type": "code",
   "execution_count": null,
   "metadata": {},
   "outputs": [],
   "source": [
    "asteroide=19\n",
    "if asteroide >= 20: #Sí el valor de la velocidad del asteroide es mayor o igual a 20, la expresión es True y se cumple la instrucción.\n",
    "    print(\"¡Miren el cielo el asteroide!\")\n",
    "elif asteroide < 20: #Sí el valor de la velocidad del asteroide es menor a 20, la expresión es False y no se cumple.\n",
    "    print(\"No hay nada en el cielo\")"
   ]
  },
  {
   "cell_type": "markdown",
   "metadata": {},
   "source": [
    "## Ejercicio: uso de operadores or y and\n"
   ]
  },
  {
   "cell_type": "code",
   "execution_count": 8,
   "metadata": {},
   "outputs": [
    {
     "name": "stdout",
     "output_type": "stream",
     "text": [
      "Velocidad de asteroide\n",
      "25\n",
      "Diametro de asteroide\n",
      "20\n",
      "Un asteroide en el cielo\n"
     ]
    }
   ],
   "source": [
    "vasteroide=25\n",
    "print(\"Velocidad de asteroide\")\n",
    "print(vasteroide)\n",
    "dasteroide=20\n",
    "print(\"Diametro de asteroide\")\n",
    "print(dasteroide)\n",
    "if vasteroide and dasteroide >= 25:\n",
    "    print(\"Advertencia, asteroide cerca de la tierra\")\n",
    "elif vasteroide >=20:\n",
    "    print(\"Un asteroide en el cielo\")\n",
    "elif dasteroide < 25:\n",
    "    print(\"Todo tranquilo\")\n",
    "else:\n",
    "    print(\"todo tranquilo\")"
   ]
  }
 ],
 "metadata": {
  "interpreter": {
   "hash": "1096d96948c228fd0d200fe0224c5b4749dc8f9f8502a0a25bea65f39e17c54a"
  },
  "kernelspec": {
   "display_name": "Python 3.10.2 64-bit",
   "language": "python",
   "name": "python3"
  },
  "language_info": {
   "codemirror_mode": {
    "name": "ipython",
    "version": 3
   },
   "file_extension": ".py",
   "mimetype": "text/x-python",
   "name": "python",
   "nbconvert_exporter": "python",
   "pygments_lexer": "ipython3",
   "version": "3.10.2"
  },
  "orig_nbformat": 4
 },
 "nbformat": 4,
 "nbformat_minor": 2
}
