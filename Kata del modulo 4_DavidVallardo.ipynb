{
 "cells": [
  {
   "cell_type": "markdown",
   "metadata": {},
   "source": [
    "## Ejercicio 1: Transformar cadenas"
   ]
  },
  {
   "cell_type": "code",
   "execution_count": null,
   "metadata": {},
   "outputs": [],
   "source": [
    "text = \"\"\"Interesting facts about the Moon. The Moon is Earth's only satellite. There are several interesting facts about the Moon and how it affects life here on Earth. \n",
    "On average, the Moon moves 4cm away from the Earth every year. This yearly drift is not significant enough to cause immediate effects on Earth. The highest dayl\"\"\"\n",
    "text.split() #Dividir texto\n",
    "clave = \"average\", \"temperature\", \"distance\" #Palabras clave\n",
    "for sentence in text:\n",
    "    for clave in clave:\n",
    "        if clave in sentence:\n",
    "            print(sentence)\n",
    "            break\n",
    "for sentence in text:\n",
    "    for clave in clave:\n",
    "        if clave in sentence:\n",
    "            print(sentence.replace(' C', 'Celsius'))\n",
    "            break"
   ]
  },
  {
   "cell_type": "markdown",
   "metadata": {},
   "source": [
    "## Formateando cadenas\n"
   ]
  },
  {
   "cell_type": "code",
   "execution_count": 17,
   "metadata": {},
   "outputs": [
    {
     "ename": "IndentationError",
     "evalue": "unexpected indent (3573837048.py, line 24)",
     "output_type": "error",
     "traceback": [
      "\u001b[1;36m  Input \u001b[1;32mIn [17]\u001b[1;36m\u001b[0m\n\u001b[1;33m    print(new_template.format(nombre=Nombre, planeta=planeta, gravedad=gravedad*1000))\u001b[0m\n\u001b[1;37m    ^\u001b[0m\n\u001b[1;31mIndentationError\u001b[0m\u001b[1;31m:\u001b[0m unexpected indent\n"
     ]
    }
   ],
   "source": [
    "name= \"Moon\"\n",
    "gravity= 0.00162 #in kms\n",
    "planet= \"Earth\"\n",
    "titulo= \"Graveda de la luna sobre la tierra\"\n",
    "titulo.title()\n",
    "\n",
    "Hechos=f\"\"\"{'-'*80}\n",
    "Nombre del planeta {planet}\n",
    "Graveda en {name}: {gravity * 1000} m/s2\n",
    "\"\"\"\n",
    "template = f\"\"\"{titulo.title()}\n",
    "{Hechos}\"\"\"\n",
    "print(Hechos)\n",
    "\n",
    "planeta='Marte'\n",
    "gravedad = 0.00143\n",
    "Nombre = 'Ganímedes'\n",
    "\n",
    "print(Hechos)\n",
    "new_template= \"\"\" Datos de Gravedad sobre: {nombre}\n",
    "---------------------------------------------------------\n",
    "Nombre del planeta {planeta}\n",
    "Gravedad en {nombre}:{gravedad} m/s2 \"\"\"\n",
    " print(new_template.format(nombre=Nombre, planeta=planeta, gravedad=gravedad*1000))\n"
   ]
  }
 ],
 "metadata": {
  "interpreter": {
   "hash": "1096d96948c228fd0d200fe0224c5b4749dc8f9f8502a0a25bea65f39e17c54a"
  },
  "kernelspec": {
   "display_name": "Python 3.10.2 64-bit",
   "language": "python",
   "name": "python3"
  },
  "language_info": {
   "codemirror_mode": {
    "name": "ipython",
    "version": 3
   },
   "file_extension": ".py",
   "mimetype": "text/x-python",
   "name": "python",
   "nbconvert_exporter": "python",
   "pygments_lexer": "ipython3",
   "version": "3.10.2"
  },
  "orig_nbformat": 4
 },
 "nbformat": 4,
 "nbformat_minor": 2
}
